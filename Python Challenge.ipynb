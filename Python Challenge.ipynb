{
 "cells": [
  {
   "cell_type": "markdown",
   "metadata": {},
   "source": [
    "## Level 0\n",
    "\n",
    "-an image of 2^38"
   ]
  },
  {
   "cell_type": "code",
   "execution_count": 2,
   "metadata": {
    "collapsed": false
   },
   "outputs": [
    {
     "data": {
      "text/plain": [
       "274877906944"
      ]
     },
     "execution_count": 2,
     "metadata": {},
     "output_type": "execute_result"
    }
   ],
   "source": [
    "2**38"
   ]
  },
  {
   "cell_type": "markdown",
   "metadata": {},
   "source": [
    "## Level 1\n",
    "\n",
    "On the image\n",
    "\n",
    "- K -> M\n",
    "- O -> Q\n",
    "- E -> G\n",
    "\n",
    "Below the image\n",
    "\n",
    "`\n",
    "g fmnc wms bgblr rpylqjyrc gr zw fylb. rfyrq ufyr amknsrcpq ypc dmp. bmgle gr gl zw fylb gq glcddgagclr ylb rfyr'q ufw rfgq rcvr gq qm jmle. sqgle qrpgle.kyicrpylq() gq pcamkkclbcb. lmu ynnjw ml rfc spj.\n",
    "`"
   ]
  },
  {
   "cell_type": "code",
   "execution_count": 4,
   "metadata": {
    "collapsed": true
   },
   "outputs": [],
   "source": [
    "text = \"g fmnc wms bgblr rpylqjyrc gr zw fylb. rfyrq ufyr amknsrcpq ypc dmp. bmgle gr gl zw fylb gq glcddgagclr ylb rfyr'q ufw rfgq rcvr gq qm jmle. sqgle qrpgle.kyicrpylq() gq pcamkkclbcb. lmu ynnjw ml rfc spj.\"\"\"\n",
    "alphabet = ['a', 'b', 'c', 'd', 'e', 'f', 'g', 'h', 'i', 'j',\n",
    "            'k', 'l', 'm', 'n', 'o', 'p', 'q', 'r', 's', 't',\n",
    "            'u', 'v', 'w', 'x', 'y', 'z']"
   ]
  },
  {
   "cell_type": "code",
   "execution_count": 10,
   "metadata": {
    "collapsed": false
   },
   "outputs": [],
   "source": [
    "def alphabet_shift(text):\n",
    "    for character in text:\n",
    "        try:\n",
    "            print(alphabet[(alphabet.index(character) + 2) % 26], end=\"\")\n",
    "        except:\n",
    "            print(character)"
   ]
  },
  {
   "cell_type": "code",
   "execution_count": 11,
   "metadata": {
    "collapsed": false
   },
   "outputs": [
    {
     "name": "stdout",
     "output_type": "stream",
     "text": [
      "i \n",
      "hope \n",
      "you \n",
      "didnt \n",
      "translate \n",
      "it \n",
      "by \n",
      "hand.\n",
      " \n",
      "thats \n",
      "what \n",
      "computers \n",
      "are \n",
      "for.\n",
      " \n",
      "doing \n",
      "it \n",
      "in \n",
      "by \n",
      "hand \n",
      "is \n",
      "inefficient \n",
      "and \n",
      "that'\n",
      "s \n",
      "why \n",
      "this \n",
      "text \n",
      "is \n",
      "so \n",
      "long.\n",
      " \n",
      "using \n",
      "string.\n",
      "maketrans(\n",
      ")\n",
      " \n",
      "is \n",
      "recommended.\n",
      " \n",
      "now \n",
      "apply \n",
      "on \n",
      "the \n",
      "url.\n"
     ]
    }
   ],
   "source": [
    "alphabet_shift(text)"
   ]
  },
  {
   "cell_type": "code",
   "execution_count": 12,
   "metadata": {
    "collapsed": false
   },
   "outputs": [
    {
     "name": "stdout",
     "output_type": "stream",
     "text": [
      "ocr"
     ]
    }
   ],
   "source": [
    "alphabet_shift('map')"
   ]
  },
  {
   "cell_type": "markdown",
   "metadata": {},
   "source": [
    "## Level 3\n",
    "\n",
    "Below the image\n",
    "\n",
    "- recognize the characters. maybe they are in the book, but MAYBE they are in the page source.\n",
    "\n",
    "In the Source\n",
    "\n",
    "- find rare characters in the mess below:\n"
   ]
  },
  {
   "cell_type": "code",
   "execution_count": 4,
   "metadata": {
    "collapsed": true
   },
   "outputs": [],
   "source": [
    "with open('level_3_characters.txt', 'r') as f:\n",
    "    read_text = f.read()"
   ]
  },
  {
   "cell_type": "code",
   "execution_count": 5,
   "metadata": {
    "collapsed": false
   },
   "outputs": [
    {
     "name": "stdout",
     "output_type": "stream",
     "text": [
      "{'!': 6079, 'y': 1, '_': 6112, '}': 6105, 'l': 1, 'a': 1, '$': 6046, '+': 6066, '&': 6043, 'q': 1, 't': 1, '#': 6115, '%': 6104, '*': 6034, '@': 6157, '^': 6030, '\\n': 1220, 'i': 1, 'u': 1, ']': 6152, 'e': 1, '(': 6154, '{': 6046, ')': 6186, '[': 6108}\n"
     ]
    }
   ],
   "source": [
    "char_dict = {}\n",
    "for char in read_text:\n",
    "    if char in char_dict:\n",
    "        char_dict[char] = char_dict[char] + 1\n",
    "    else:\n",
    "        char_dict[char] = 1\n",
    "print(char_dict)"
   ]
  },
  {
   "cell_type": "code",
   "execution_count": 6,
   "metadata": {
    "collapsed": false
   },
   "outputs": [
    {
     "data": {
      "text/plain": [
       "['}',\n",
       " '{',\n",
       " 'y',\n",
       " 'u',\n",
       " 't',\n",
       " 'q',\n",
       " 'l',\n",
       " 'i',\n",
       " 'e',\n",
       " 'a',\n",
       " '_',\n",
       " '^',\n",
       " ']',\n",
       " '[',\n",
       " '@',\n",
       " '+',\n",
       " '*',\n",
       " ')',\n",
       " '(',\n",
       " '&',\n",
       " '%',\n",
       " '$',\n",
       " '#',\n",
       " '!',\n",
       " '\\n']"
      ]
     },
     "execution_count": 6,
     "metadata": {},
     "output_type": "execute_result"
    }
   ],
   "source": [
    "sorted(char_dict, reverse=True)"
   ]
  },
  {
   "cell_type": "code",
   "execution_count": 7,
   "metadata": {
    "collapsed": true
   },
   "outputs": [],
   "source": [
    "import re"
   ]
  },
  {
   "cell_type": "code",
   "execution_count": 9,
   "metadata": {
    "collapsed": false
   },
   "outputs": [
    {
     "data": {
      "text/plain": [
       "'equality'"
      ]
     },
     "execution_count": 9,
     "metadata": {},
     "output_type": "execute_result"
    }
   ],
   "source": [
    "re.sub(r'[^yutqliea]', '', read_text)"
   ]
  },
  {
   "cell_type": "markdown",
   "metadata": {},
   "source": [
    "## Level 4\n",
    "\n",
    "Below image\n",
    "\n",
    "- One small letter, surrounded by EXACTLY three big bodyguards on each of its sides.\n",
    "\n"
   ]
  }
 ],
 "metadata": {
  "kernelspec": {
   "display_name": "Python 3",
   "language": "python",
   "name": "python3"
  },
  "language_info": {
   "codemirror_mode": {
    "name": "ipython",
    "version": 3
   },
   "file_extension": ".py",
   "mimetype": "text/x-python",
   "name": "python",
   "nbconvert_exporter": "python",
   "pygments_lexer": "ipython3",
   "version": "3.5.0"
  }
 },
 "nbformat": 4,
 "nbformat_minor": 0
}
