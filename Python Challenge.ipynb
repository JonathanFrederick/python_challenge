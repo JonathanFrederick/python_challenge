{
 "cells": [
  {
   "cell_type": "code",
   "execution_count": 6,
   "metadata": {
    "collapsed": false
   },
   "outputs": [],
   "source": [
    "import re\n",
    "import requests\n",
    "import pickle"
   ]
  },
  {
   "cell_type": "markdown",
   "metadata": {},
   "source": [
    "## Level 0\n",
    "\n",
    "-an image of 2^38"
   ]
  },
  {
   "cell_type": "code",
   "execution_count": 2,
   "metadata": {
    "collapsed": false
   },
   "outputs": [
    {
     "data": {
      "text/plain": [
       "274877906944"
      ]
     },
     "execution_count": 2,
     "metadata": {},
     "output_type": "execute_result"
    }
   ],
   "source": [
    "2**38"
   ]
  },
  {
   "cell_type": "markdown",
   "metadata": {},
   "source": [
    "## Level 1\n",
    "\n",
    "On the image\n",
    "\n",
    "- K -> M\n",
    "- O -> Q\n",
    "- E -> G\n",
    "\n",
    "Below the image\n",
    "\n",
    "`\n",
    "g fmnc wms bgblr rpylqjyrc gr zw fylb. rfyrq ufyr amknsrcpq ypc dmp. bmgle gr gl zw fylb gq glcddgagclr ylb rfyr'q ufw rfgq rcvr gq qm jmle. sqgle qrpgle.kyicrpylq() gq pcamkkclbcb. lmu ynnjw ml rfc spj.\n",
    "`"
   ]
  },
  {
   "cell_type": "code",
   "execution_count": 4,
   "metadata": {
    "collapsed": true
   },
   "outputs": [],
   "source": [
    "text = \"g fmnc wms bgblr rpylqjyrc gr zw fylb. rfyrq ufyr amknsrcpq ypc dmp. bmgle gr gl zw fylb gq glcddgagclr ylb rfyr'q ufw rfgq rcvr gq qm jmle. sqgle qrpgle.kyicrpylq() gq pcamkkclbcb. lmu ynnjw ml rfc spj.\"\"\"\n",
    "alphabet = ['a', 'b', 'c', 'd', 'e', 'f', 'g', 'h', 'i', 'j',\n",
    "            'k', 'l', 'm', 'n', 'o', 'p', 'q', 'r', 's', 't',\n",
    "            'u', 'v', 'w', 'x', 'y', 'z']"
   ]
  },
  {
   "cell_type": "code",
   "execution_count": 10,
   "metadata": {
    "collapsed": false
   },
   "outputs": [],
   "source": [
    "def alphabet_shift(text):\n",
    "    for character in text:\n",
    "        try:\n",
    "            print(alphabet[(alphabet.index(character) + 2) % 26], end=\"\")\n",
    "        except:\n",
    "            print(character)"
   ]
  },
  {
   "cell_type": "code",
   "execution_count": 11,
   "metadata": {
    "collapsed": false
   },
   "outputs": [
    {
     "name": "stdout",
     "output_type": "stream",
     "text": [
      "i \n",
      "hope \n",
      "you \n",
      "didnt \n",
      "translate \n",
      "it \n",
      "by \n",
      "hand.\n",
      " \n",
      "thats \n",
      "what \n",
      "computers \n",
      "are \n",
      "for.\n",
      " \n",
      "doing \n",
      "it \n",
      "in \n",
      "by \n",
      "hand \n",
      "is \n",
      "inefficient \n",
      "and \n",
      "that'\n",
      "s \n",
      "why \n",
      "this \n",
      "text \n",
      "is \n",
      "so \n",
      "long.\n",
      " \n",
      "using \n",
      "string.\n",
      "maketrans(\n",
      ")\n",
      " \n",
      "is \n",
      "recommended.\n",
      " \n",
      "now \n",
      "apply \n",
      "on \n",
      "the \n",
      "url.\n"
     ]
    }
   ],
   "source": [
    "alphabet_shift(text)"
   ]
  },
  {
   "cell_type": "code",
   "execution_count": 12,
   "metadata": {
    "collapsed": false
   },
   "outputs": [
    {
     "name": "stdout",
     "output_type": "stream",
     "text": [
      "ocr"
     ]
    }
   ],
   "source": [
    "alphabet_shift('map')"
   ]
  },
  {
   "cell_type": "markdown",
   "metadata": {},
   "source": [
    "## Level 2\n",
    "\n",
    "Below the image\n",
    "\n",
    "- recognize the characters. maybe they are in the book, but MAYBE they are in the page source.\n",
    "\n",
    "In the Source\n",
    "\n",
    "- find rare characters in the mess below:\n"
   ]
  },
  {
   "cell_type": "code",
   "execution_count": 4,
   "metadata": {
    "collapsed": true
   },
   "outputs": [],
   "source": [
    "with open('level_3_characters.txt', 'r') as f:\n",
    "    read_text = f.read()"
   ]
  },
  {
   "cell_type": "code",
   "execution_count": 5,
   "metadata": {
    "collapsed": false
   },
   "outputs": [
    {
     "name": "stdout",
     "output_type": "stream",
     "text": [
      "{'!': 6079, 'y': 1, '_': 6112, '}': 6105, 'l': 1, 'a': 1, '$': 6046, '+': 6066, '&': 6043, 'q': 1, 't': 1, '#': 6115, '%': 6104, '*': 6034, '@': 6157, '^': 6030, '\\n': 1220, 'i': 1, 'u': 1, ']': 6152, 'e': 1, '(': 6154, '{': 6046, ')': 6186, '[': 6108}\n"
     ]
    }
   ],
   "source": [
    "char_dict = {}\n",
    "for char in read_text:\n",
    "    if char in char_dict:\n",
    "        char_dict[char] = char_dict[char] + 1\n",
    "    else:\n",
    "        char_dict[char] = 1\n",
    "print(char_dict)"
   ]
  },
  {
   "cell_type": "code",
   "execution_count": 6,
   "metadata": {
    "collapsed": false
   },
   "outputs": [
    {
     "data": {
      "text/plain": [
       "['}',\n",
       " '{',\n",
       " 'y',\n",
       " 'u',\n",
       " 't',\n",
       " 'q',\n",
       " 'l',\n",
       " 'i',\n",
       " 'e',\n",
       " 'a',\n",
       " '_',\n",
       " '^',\n",
       " ']',\n",
       " '[',\n",
       " '@',\n",
       " '+',\n",
       " '*',\n",
       " ')',\n",
       " '(',\n",
       " '&',\n",
       " '%',\n",
       " '$',\n",
       " '#',\n",
       " '!',\n",
       " '\\n']"
      ]
     },
     "execution_count": 6,
     "metadata": {},
     "output_type": "execute_result"
    }
   ],
   "source": [
    "sorted(char_dict, reverse=True)"
   ]
  },
  {
   "cell_type": "code",
   "execution_count": 2,
   "metadata": {
    "collapsed": true
   },
   "outputs": [],
   "source": []
  },
  {
   "cell_type": "code",
   "execution_count": 9,
   "metadata": {
    "collapsed": false
   },
   "outputs": [
    {
     "data": {
      "text/plain": [
       "'equality'"
      ]
     },
     "execution_count": 9,
     "metadata": {},
     "output_type": "execute_result"
    }
   ],
   "source": [
    "re.sub(r'[^yutqliea]', '', read_text)"
   ]
  },
  {
   "cell_type": "markdown",
   "metadata": {},
   "source": [
    "## Level 3\n",
    "\n",
    "Below image\n",
    "\n",
    "- One small letter, surrounded by EXACTLY three big bodyguards on each of its sides.\n",
    "\n",
    "Another block of characters in the source code"
   ]
  },
  {
   "cell_type": "code",
   "execution_count": 7,
   "metadata": {
    "collapsed": false
   },
   "outputs": [
    {
     "data": {
      "text/plain": [
       "['IQNlQSL',\n",
       " 'OEKiVEY',\n",
       " 'ZADnMCZ',\n",
       " 'ZUTkLYN',\n",
       " 'CNDeHSB',\n",
       " 'OIXdKBF',\n",
       " 'XJVlGZV',\n",
       " 'ZAGiLQZ',\n",
       " 'CJAsACF',\n",
       " 'KWGtIDC']"
      ]
     },
     "execution_count": 7,
     "metadata": {},
     "output_type": "execute_result"
    }
   ],
   "source": [
    "with open('level_4_characters.txt', 'r') as f:\n",
    "    read_text = f.read()\n",
    "    guards = re.findall(r'[a-z]+([A-Z]{3}[a-z]{1}[A-Z]{3})[a-z]+', read_text)\n",
    "guards"
   ]
  },
  {
   "cell_type": "code",
   "execution_count": 8,
   "metadata": {
    "collapsed": false
   },
   "outputs": [
    {
     "data": {
      "text/plain": [
       "'IQNlQSLOEKiVEYZADnMCZZUTkLYNCNDeHSBOIXdKBFXJVlGZVZAGiLQZCJAsACFKWGtIDC'"
      ]
     },
     "execution_count": 8,
     "metadata": {},
     "output_type": "execute_result"
    }
   ],
   "source": [
    "new_string = ''\n",
    "for match in guards:\n",
    "    new_string += match\n",
    "new_string"
   ]
  },
  {
   "cell_type": "code",
   "execution_count": 9,
   "metadata": {
    "collapsed": false
   },
   "outputs": [
    {
     "data": {
      "text/plain": [
       "'linkedlist'"
      ]
     },
     "execution_count": 9,
     "metadata": {},
     "output_type": "execute_result"
    }
   ],
   "source": [
    "re.sub(r'[A-Z]', '', new_string)"
   ]
  },
  {
   "cell_type": "markdown",
   "metadata": {},
   "source": [
    "## Level 4\n",
    "\n",
    "linkedlist.html suggests linkedlist.php\n",
    "\n",
    "Image at linkedlist.php links to linkedlist.php&nothing=12345\n",
    "\n",
    "Comment in source code reads \"urllib may help. DON'T TRY ALL NOTHINGS, since it will never \n",
    "end. 400 times is more than enough.\""
   ]
  },
  {
   "cell_type": "code",
   "execution_count": 11,
   "metadata": {
    "collapsed": false
   },
   "outputs": [],
   "source": []
  },
  {
   "cell_type": "code",
   "execution_count": 19,
   "metadata": {
    "collapsed": false
   },
   "outputs": [],
   "source": [
    "def nothing_links(start):\n",
    "    response = requests.get('http://www.pythonchallenge.com/pc/def/linkedlist.php?nothing=' + str(start))\n",
    "    return response.text\n",
    "    \n",
    "def print_link(start):\n",
    "    new_text = nothing_links(start)\n",
    "    print(new_text)\n",
    "    return re.sub(r'\\D', '', new_text)\n",
    "\n",
    "def iterate_links(iterations, start=12345):\n",
    "    text_list = []\n",
    "    for _ in range(iterations):\n",
    "        new_line = nothing_links(start)  # get next line\n",
    "        text_list.append((start, new_line))  # save line\n",
    "        start = re.sub(r'\\D', '', new_line)  # scrape number for next iteration\n",
    "    return text_list\n",
    "\n",
    "def print_unique(iterations=200, start=12345):\n",
    "    text_list = iterate_links(iterations, start)\n",
    "    for location in range(len(text_list)):\n",
    "        if not re.match(r'^and the next nothing is \\d+$', text_list[location][1]):\n",
    "            print(location, '- ', text_list[location])"
   ]
  },
  {
   "cell_type": "code",
   "execution_count": 20,
   "metadata": {
    "collapsed": false
   },
   "outputs": [
    {
     "name": "stdout",
     "output_type": "stream",
     "text": [
      "2 -  ('45439', '<font color=red>Your hands are getting tired </font>and the next nothing is 94485')\n",
      "85 -  ('16044', 'Yes. Divide by two and keep going.')\n"
     ]
    }
   ],
   "source": [
    "print_unique()"
   ]
  },
  {
   "cell_type": "code",
   "execution_count": 21,
   "metadata": {
    "collapsed": false
   },
   "outputs": [
    {
     "data": {
      "text/plain": [
       "'and the next nothing is 25357'"
      ]
     },
     "execution_count": 21,
     "metadata": {},
     "output_type": "execute_result"
    }
   ],
   "source": [
    "nothing_links(16044/2)"
   ]
  },
  {
   "cell_type": "code",
   "execution_count": 22,
   "metadata": {
    "collapsed": false
   },
   "outputs": [
    {
     "data": {
      "text/plain": [
       "'and the next nothing is 89879'"
      ]
     },
     "execution_count": 22,
     "metadata": {},
     "output_type": "execute_result"
    }
   ],
   "source": [
    "nothing_links(25357)"
   ]
  },
  {
   "cell_type": "code",
   "execution_count": 23,
   "metadata": {
    "collapsed": false
   },
   "outputs": [
    {
     "name": "stdout",
     "output_type": "stream",
     "text": [
      "53 -  ('82682', 'There maybe misleading numbers in the \\ntext. One example is 82683. Look only for the next nothing and the next nothing is 63579')\n"
     ]
    }
   ],
   "source": [
    "print_unique(100, 25357)"
   ]
  },
  {
   "cell_type": "code",
   "execution_count": 24,
   "metadata": {
    "collapsed": false
   },
   "outputs": [
    {
     "data": {
      "text/plain": [
       "'and the next nothing is 37278'"
      ]
     },
     "execution_count": 24,
     "metadata": {},
     "output_type": "execute_result"
    }
   ],
   "source": [
    "nothing_links(63579)"
   ]
  },
  {
   "cell_type": "code",
   "execution_count": 26,
   "metadata": {
    "collapsed": false
   },
   "outputs": [
    {
     "name": "stdout",
     "output_type": "stream",
     "text": [
      "108 -  ('66831', 'peak.html')\n"
     ]
    }
   ],
   "source": [
    "print_unique(200, 37278)"
   ]
  },
  {
   "cell_type": "markdown",
   "metadata": {
    "collapsed": false
   },
   "source": [
    "## Level 5\n",
    "\n",
    "- the page has the words \"pronounce it\" beneath an image of a hill\n",
    "- page title is \"peak hell\"\n",
    "    - \"pickle\"?\n",
    "- source code reveals a tag that reads `<peakhell src=\"banner.p\"/>`\n",
    "\n",
    "- downloaded banner.p to directory"
   ]
  },
  {
   "cell_type": "code",
   "execution_count": 30,
   "metadata": {
    "collapsed": false
   },
   "outputs": [
    {
     "name": "stdout",
     "output_type": "stream",
     "text": [
      "[[(' ', 95)], [(' ', 14), ('#', 5), (' ', 70), ('#', 5), (' ', 1)], [(' ', 15), ('#', 4), (' ', 71), ('#', 4), (' ', 1)], [(' ', 15), ('#', 4), (' ', 71), ('#', 4), (' ', 1)], [(' ', 15), ('#', 4), (' ', 71), ('#', 4), (' ', 1)], [(' ', 15), ('#', 4), (' ', 71), ('#', 4), (' ', 1)], [(' ', 15), ('#', 4), (' ', 71), ('#', 4), (' ', 1)], [(' ', 15), ('#', 4), (' ', 71), ('#', 4), (' ', 1)], [(' ', 15), ('#', 4), (' ', 71), ('#', 4), (' ', 1)], [(' ', 6), ('#', 3), (' ', 6), ('#', 4), (' ', 3), ('#', 3), (' ', 9), ('#', 3), (' ', 7), ('#', 5), (' ', 3), ('#', 3), (' ', 4), ('#', 5), (' ', 3), ('#', 3), (' ', 10), ('#', 3), (' ', 7), ('#', 4), (' ', 1)], [(' ', 3), ('#', 3), (' ', 3), ('#', 2), (' ', 4), ('#', 4), (' ', 1), ('#', 7), (' ', 5), ('#', 2), (' ', 2), ('#', 3), (' ', 6), ('#', 4), (' ', 1), ('#', 7), (' ', 3), ('#', 4), (' ', 1), ('#', 7), (' ', 5), ('#', 3), (' ', 2), ('#', 3), (' ', 5), ('#', 4), (' ', 1)], [(' ', 2), ('#', 3), (' ', 5), ('#', 3), (' ', 2), ('#', 5), (' ', 4), ('#', 4), (' ', 3), ('#', 3), (' ', 3), ('#', 4), (' ', 4), ('#', 5), (' ', 4), ('#', 4), (' ', 2), ('#', 5), (' ', 4), ('#', 4), (' ', 3), ('#', 3), (' ', 5), ('#', 3), (' ', 3), ('#', 4), (' ', 1)], [(' ', 1), ('#', 3), (' ', 11), ('#', 4), (' ', 5), ('#', 4), (' ', 3), ('#', 3), (' ', 4), ('#', 3), (' ', 4), ('#', 4), (' ', 5), ('#', 4), (' ', 2), ('#', 4), (' ', 5), ('#', 4), (' ', 2), ('#', 3), (' ', 6), ('#', 4), (' ', 2), ('#', 4), (' ', 1)], [(' ', 1), ('#', 3), (' ', 11), ('#', 4), (' ', 5), ('#', 4), (' ', 10), ('#', 3), (' ', 4), ('#', 4), (' ', 5), ('#', 4), (' ', 2), ('#', 4), (' ', 5), ('#', 4), (' ', 2), ('#', 3), (' ', 7), ('#', 3), (' ', 2), ('#', 4), (' ', 1)], [('#', 4), (' ', 11), ('#', 4), (' ', 5), ('#', 4), (' ', 5), ('#', 2), (' ', 3), ('#', 3), (' ', 4), ('#', 4), (' ', 5), ('#', 4), (' ', 2), ('#', 4), (' ', 5), ('#', 4), (' ', 1), ('#', 4), (' ', 7), ('#', 3), (' ', 2), ('#', 4), (' ', 1)], [('#', 4), (' ', 11), ('#', 4), (' ', 5), ('#', 4), (' ', 3), ('#', 10), (' ', 4), ('#', 4), (' ', 5), ('#', 4), (' ', 2), ('#', 4), (' ', 5), ('#', 4), (' ', 1), ('#', 14), (' ', 2), ('#', 4), (' ', 1)], [('#', 4), (' ', 11), ('#', 4), (' ', 5), ('#', 4), (' ', 2), ('#', 3), (' ', 4), ('#', 4), (' ', 4), ('#', 4), (' ', 5), ('#', 4), (' ', 2), ('#', 4), (' ', 5), ('#', 4), (' ', 1), ('#', 4), (' ', 12), ('#', 4), (' ', 1)], [('#', 4), (' ', 11), ('#', 4), (' ', 5), ('#', 4), (' ', 1), ('#', 4), (' ', 5), ('#', 3), (' ', 4), ('#', 4), (' ', 5), ('#', 4), (' ', 2), ('#', 4), (' ', 5), ('#', 4), (' ', 1), ('#', 4), (' ', 12), ('#', 4), (' ', 1)], [(' ', 1), ('#', 3), (' ', 11), ('#', 4), (' ', 5), ('#', 4), (' ', 1), ('#', 4), (' ', 5), ('#', 3), (' ', 4), ('#', 4), (' ', 5), ('#', 4), (' ', 2), ('#', 4), (' ', 5), ('#', 4), (' ', 2), ('#', 3), (' ', 12), ('#', 4), (' ', 1)], [(' ', 2), ('#', 3), (' ', 6), ('#', 2), (' ', 2), ('#', 4), (' ', 5), ('#', 4), (' ', 2), ('#', 3), (' ', 4), ('#', 4), (' ', 4), ('#', 4), (' ', 5), ('#', 4), (' ', 2), ('#', 4), (' ', 5), ('#', 4), (' ', 3), ('#', 3), (' ', 6), ('#', 2), (' ', 3), ('#', 4), (' ', 1)], [(' ', 3), ('#', 3), (' ', 4), ('#', 2), (' ', 3), ('#', 4), (' ', 5), ('#', 4), (' ', 3), ('#', 11), (' ', 3), ('#', 4), (' ', 5), ('#', 4), (' ', 2), ('#', 4), (' ', 5), ('#', 4), (' ', 4), ('#', 3), (' ', 4), ('#', 2), (' ', 4), ('#', 4), (' ', 1)], [(' ', 6), ('#', 3), (' ', 5), ('#', 6), (' ', 4), ('#', 5), (' ', 4), ('#', 2), (' ', 4), ('#', 4), (' ', 1), ('#', 6), (' ', 4), ('#', 11), (' ', 4), ('#', 5), (' ', 6), ('#', 3), (' ', 6), ('#', 6)], [(' ', 95)]]\n"
     ]
    }
   ],
   "source": [
    "mystery = pickle.load(open(\"banner.p\", \"rb\"))\n",
    "\n",
    "print(mystery)\n"
   ]
  },
  {
   "cell_type": "code",
   "execution_count": 33,
   "metadata": {
    "collapsed": false
   },
   "outputs": [
    {
     "name": "stdout",
     "output_type": "stream",
     "text": [
      "[(' ', 95)]\n",
      "[(' ', 14), ('#', 5), (' ', 70), ('#', 5), (' ', 1)]\n",
      "[(' ', 15), ('#', 4), (' ', 71), ('#', 4), (' ', 1)]\n",
      "[(' ', 15), ('#', 4), (' ', 71), ('#', 4), (' ', 1)]\n",
      "[(' ', 15), ('#', 4), (' ', 71), ('#', 4), (' ', 1)]\n",
      "[(' ', 15), ('#', 4), (' ', 71), ('#', 4), (' ', 1)]\n",
      "[(' ', 15), ('#', 4), (' ', 71), ('#', 4), (' ', 1)]\n",
      "[(' ', 15), ('#', 4), (' ', 71), ('#', 4), (' ', 1)]\n",
      "[(' ', 15), ('#', 4), (' ', 71), ('#', 4), (' ', 1)]\n",
      "[(' ', 6), ('#', 3), (' ', 6), ('#', 4), (' ', 3), ('#', 3), (' ', 9), ('#', 3), (' ', 7), ('#', 5), (' ', 3), ('#', 3), (' ', 4), ('#', 5), (' ', 3), ('#', 3), (' ', 10), ('#', 3), (' ', 7), ('#', 4), (' ', 1)]\n",
      "[(' ', 3), ('#', 3), (' ', 3), ('#', 2), (' ', 4), ('#', 4), (' ', 1), ('#', 7), (' ', 5), ('#', 2), (' ', 2), ('#', 3), (' ', 6), ('#', 4), (' ', 1), ('#', 7), (' ', 3), ('#', 4), (' ', 1), ('#', 7), (' ', 5), ('#', 3), (' ', 2), ('#', 3), (' ', 5), ('#', 4), (' ', 1)]\n",
      "[(' ', 2), ('#', 3), (' ', 5), ('#', 3), (' ', 2), ('#', 5), (' ', 4), ('#', 4), (' ', 3), ('#', 3), (' ', 3), ('#', 4), (' ', 4), ('#', 5), (' ', 4), ('#', 4), (' ', 2), ('#', 5), (' ', 4), ('#', 4), (' ', 3), ('#', 3), (' ', 5), ('#', 3), (' ', 3), ('#', 4), (' ', 1)]\n",
      "[(' ', 1), ('#', 3), (' ', 11), ('#', 4), (' ', 5), ('#', 4), (' ', 3), ('#', 3), (' ', 4), ('#', 3), (' ', 4), ('#', 4), (' ', 5), ('#', 4), (' ', 2), ('#', 4), (' ', 5), ('#', 4), (' ', 2), ('#', 3), (' ', 6), ('#', 4), (' ', 2), ('#', 4), (' ', 1)]\n",
      "[(' ', 1), ('#', 3), (' ', 11), ('#', 4), (' ', 5), ('#', 4), (' ', 10), ('#', 3), (' ', 4), ('#', 4), (' ', 5), ('#', 4), (' ', 2), ('#', 4), (' ', 5), ('#', 4), (' ', 2), ('#', 3), (' ', 7), ('#', 3), (' ', 2), ('#', 4), (' ', 1)]\n",
      "[('#', 4), (' ', 11), ('#', 4), (' ', 5), ('#', 4), (' ', 5), ('#', 2), (' ', 3), ('#', 3), (' ', 4), ('#', 4), (' ', 5), ('#', 4), (' ', 2), ('#', 4), (' ', 5), ('#', 4), (' ', 1), ('#', 4), (' ', 7), ('#', 3), (' ', 2), ('#', 4), (' ', 1)]\n",
      "[('#', 4), (' ', 11), ('#', 4), (' ', 5), ('#', 4), (' ', 3), ('#', 10), (' ', 4), ('#', 4), (' ', 5), ('#', 4), (' ', 2), ('#', 4), (' ', 5), ('#', 4), (' ', 1), ('#', 14), (' ', 2), ('#', 4), (' ', 1)]\n",
      "[('#', 4), (' ', 11), ('#', 4), (' ', 5), ('#', 4), (' ', 2), ('#', 3), (' ', 4), ('#', 4), (' ', 4), ('#', 4), (' ', 5), ('#', 4), (' ', 2), ('#', 4), (' ', 5), ('#', 4), (' ', 1), ('#', 4), (' ', 12), ('#', 4), (' ', 1)]\n",
      "[('#', 4), (' ', 11), ('#', 4), (' ', 5), ('#', 4), (' ', 1), ('#', 4), (' ', 5), ('#', 3), (' ', 4), ('#', 4), (' ', 5), ('#', 4), (' ', 2), ('#', 4), (' ', 5), ('#', 4), (' ', 1), ('#', 4), (' ', 12), ('#', 4), (' ', 1)]\n",
      "[(' ', 1), ('#', 3), (' ', 11), ('#', 4), (' ', 5), ('#', 4), (' ', 1), ('#', 4), (' ', 5), ('#', 3), (' ', 4), ('#', 4), (' ', 5), ('#', 4), (' ', 2), ('#', 4), (' ', 5), ('#', 4), (' ', 2), ('#', 3), (' ', 12), ('#', 4), (' ', 1)]\n",
      "[(' ', 2), ('#', 3), (' ', 6), ('#', 2), (' ', 2), ('#', 4), (' ', 5), ('#', 4), (' ', 2), ('#', 3), (' ', 4), ('#', 4), (' ', 4), ('#', 4), (' ', 5), ('#', 4), (' ', 2), ('#', 4), (' ', 5), ('#', 4), (' ', 3), ('#', 3), (' ', 6), ('#', 2), (' ', 3), ('#', 4), (' ', 1)]\n",
      "[(' ', 3), ('#', 3), (' ', 4), ('#', 2), (' ', 3), ('#', 4), (' ', 5), ('#', 4), (' ', 3), ('#', 11), (' ', 3), ('#', 4), (' ', 5), ('#', 4), (' ', 2), ('#', 4), (' ', 5), ('#', 4), (' ', 4), ('#', 3), (' ', 4), ('#', 2), (' ', 4), ('#', 4), (' ', 1)]\n",
      "[(' ', 6), ('#', 3), (' ', 5), ('#', 6), (' ', 4), ('#', 5), (' ', 4), ('#', 2), (' ', 4), ('#', 4), (' ', 1), ('#', 6), (' ', 4), ('#', 11), (' ', 4), ('#', 5), (' ', 6), ('#', 3), (' ', 6), ('#', 6)]\n",
      "[(' ', 95)]\n"
     ]
    }
   ],
   "source": [
    "for line in mystery:\n",
    "    print(line)"
   ]
  },
  {
   "cell_type": "code",
   "execution_count": 34,
   "metadata": {
    "collapsed": false
   },
   "outputs": [
    {
     "name": "stdout",
     "output_type": "stream",
     "text": [
      "95\n",
      "95\n",
      "95\n",
      "95\n",
      "95\n",
      "95\n",
      "95\n",
      "95\n",
      "95\n",
      "95\n",
      "95\n",
      "95\n",
      "95\n",
      "95\n",
      "95\n",
      "95\n",
      "95\n",
      "95\n",
      "95\n",
      "95\n",
      "95\n",
      "95\n",
      "95\n"
     ]
    }
   ],
   "source": [
    "for line in mystery:\n",
    "    print(sum([_[1] for _ in line]))"
   ]
  },
  {
   "cell_type": "code",
   "execution_count": 40,
   "metadata": {
    "collapsed": true
   },
   "outputs": [],
   "source": [
    "def print_chars(tup):\n",
    "    for _ in range(tup[1]):\n",
    "        print(tup[0], end='')\n",
    "        \n",
    "def print_line(line):\n",
    "    for tup in line:\n",
    "        print_chars(tup)\n",
    "    print()\n",
    "    \n",
    "def print_list_of_lines(mystery_list):\n",
    "    for line in mystery_list:\n",
    "        print_line(line)"
   ]
  },
  {
   "cell_type": "code",
   "execution_count": 41,
   "metadata": {
    "collapsed": false
   },
   "outputs": [
    {
     "name": "stdout",
     "output_type": "stream",
     "text": [
      "                                                                                               \n",
      "              #####                                                                      ##### \n",
      "               ####                                                                       #### \n",
      "               ####                                                                       #### \n",
      "               ####                                                                       #### \n",
      "               ####                                                                       #### \n",
      "               ####                                                                       #### \n",
      "               ####                                                                       #### \n",
      "               ####                                                                       #### \n",
      "      ###      ####   ###         ###       #####   ###    #####   ###          ###       #### \n",
      "   ###   ##    #### #######     ##  ###      #### #######   #### #######     ###  ###     #### \n",
      "  ###     ###  #####    ####   ###   ####    #####    ####  #####    ####   ###     ###   #### \n",
      " ###           ####     ####   ###    ###    ####     ####  ####     ####  ###      ####  #### \n",
      " ###           ####     ####          ###    ####     ####  ####     ####  ###       ###  #### \n",
      "####           ####     ####     ##   ###    ####     ####  ####     #### ####       ###  #### \n",
      "####           ####     ####   ##########    ####     ####  ####     #### ##############  #### \n",
      "####           ####     ####  ###    ####    ####     ####  ####     #### ####            #### \n",
      "####           ####     #### ####     ###    ####     ####  ####     #### ####            #### \n",
      " ###           ####     #### ####     ###    ####     ####  ####     ####  ###            #### \n",
      "  ###      ##  ####     ####  ###    ####    ####     ####  ####     ####   ###      ##   #### \n",
      "   ###    ##   ####     ####   ###########   ####     ####  ####     ####    ###    ##    #### \n",
      "      ###     ######    #####    ##    #### ######    ###########    #####      ###      ######\n",
      "                                                                                               \n"
     ]
    }
   ],
   "source": [
    "print_list_of_lines(mystery)"
   ]
  },
  {
   "cell_type": "markdown",
   "metadata": {
    "collapsed": true
   },
   "source": [
    "## Level 6\n",
    "\n",
    "channel.html\n",
    "- A picture of a zipper\n",
    "- title: \"now there are pairs\"\n",
    "- source-code:\n",
    "    - comment \"zip\"\n",
    "\n",
    "zip.html\n",
    "- \"yes. find the zip.\"\n",
    "\n",
    "channel.zip\n",
    "- Downloadable .zip file\n",
    "\n",
    "Unzipped channel.zip to challenge directory"
   ]
  },
  {
   "cell_type": "code",
   "execution_count": 94,
   "metadata": {
    "collapsed": false
   },
   "outputs": [],
   "source": [
    "def read_file(file_name=\"readme\"):\n",
    "    with open(\"channel/\" + file_name + \".txt\", \"r\") as f:\n",
    "        read_text = f.read()\n",
    "    return read_text\n",
    "\n",
    "def is_unique(file_text):\n",
    "    if re.match(r'^Next nothing is \\d+$', file_text):\n",
    "        return False\n",
    "    return True"
   ]
  },
  {
   "cell_type": "code",
   "execution_count": 95,
   "metadata": {
    "collapsed": false
   },
   "outputs": [
    {
     "name": "stdout",
     "output_type": "stream",
     "text": [
      "welcome to my zipped list.\n",
      "\n",
      "hint1: start from 90052\n",
      "hint2: answer is inside the zip\n",
      "\n"
     ]
    }
   ],
   "source": [
    "print(read_file())"
   ]
  },
  {
   "cell_type": "code",
   "execution_count": 96,
   "metadata": {
    "collapsed": false
   },
   "outputs": [
    {
     "data": {
      "text/plain": [
       "'Next nothing is 94191'"
      ]
     },
     "execution_count": 96,
     "metadata": {},
     "output_type": "execute_result"
    }
   ],
   "source": [
    "read_file(\"90052\")"
   ]
  },
  {
   "cell_type": "code",
   "execution_count": 97,
   "metadata": {
    "collapsed": false
   },
   "outputs": [],
   "source": [
    "def iterate_files(start=\"90052\", iterations=1000):\n",
    "    text_list = []\n",
    "    num_list = [start]\n",
    "    for _ in range(iterations):\n",
    "        file_text = read_file(start)\n",
    "        if is_unique(file_text) :  # find unique text\n",
    "            print(file_text) # print unique\n",
    "            return True\n",
    "        else:\n",
    "#             print(start.rjust(5) + ' - ' + file_text)\n",
    "            start = re.sub(r'\\D', '', file_text)\n",
    "\n",
    "            # check for a loop\n",
    "            if start in num_list:\n",
    "                print(\"LOOPING HERE\")\n",
    "            else:\n",
    "                num_list.append(start)\n",
    "#             print(num_list)\n",
    "\n",
    "    print(\"Unique Entry Not Found\")"
   ]
  },
  {
   "cell_type": "code",
   "execution_count": 98,
   "metadata": {
    "collapsed": false
   },
   "outputs": [
    {
     "name": "stdout",
     "output_type": "stream",
     "text": [
      "Collect the comments.\n"
     ]
    },
    {
     "data": {
      "text/plain": [
       "True"
      ]
     },
     "execution_count": 98,
     "metadata": {},
     "output_type": "execute_result"
    }
   ],
   "source": [
    "iterate_files()"
   ]
  },
  {
   "cell_type": "code",
   "execution_count": null,
   "metadata": {
    "collapsed": false
   },
   "outputs": [],
   "source": [
    "\n"
   ]
  },
  {
   "cell_type": "code",
   "execution_count": null,
   "metadata": {
    "collapsed": false
   },
   "outputs": [],
   "source": []
  },
  {
   "cell_type": "code",
   "execution_count": null,
   "metadata": {
    "collapsed": false
   },
   "outputs": [],
   "source": []
  },
  {
   "cell_type": "code",
   "execution_count": null,
   "metadata": {
    "collapsed": true
   },
   "outputs": [],
   "source": []
  }
 ],
 "metadata": {
  "kernelspec": {
   "display_name": "Python 3",
   "language": "python",
   "name": "python3"
  },
  "language_info": {
   "codemirror_mode": {
    "name": "ipython",
    "version": 3
   },
   "file_extension": ".py",
   "mimetype": "text/x-python",
   "name": "python",
   "nbconvert_exporter": "python",
   "pygments_lexer": "ipython3",
   "version": "3.5.1"
  }
 },
 "nbformat": 4,
 "nbformat_minor": 0
}
